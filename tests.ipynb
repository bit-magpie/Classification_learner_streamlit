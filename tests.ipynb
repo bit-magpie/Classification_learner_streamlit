{
 "cells": [
  {
   "cell_type": "code",
   "execution_count": 10,
   "metadata": {},
   "outputs": [],
   "source": [
    "import numpy as np\n",
    "from sklearn import svm"
   ]
  },
  {
   "cell_type": "code",
   "execution_count": 11,
   "metadata": {},
   "outputs": [],
   "source": [
    "clf = svm.SVC()"
   ]
  },
  {
   "cell_type": "code",
   "execution_count": 19,
   "metadata": {},
   "outputs": [],
   "source": [
    "class Dataset:\n",
    "    def __init__(self, X, y):\n",
    "        self.X = X\n",
    "        self.y = y\n",
    "        self.x_train = X\n",
    "        self.y_train = y\n",
    "        self.x_test = X\n",
    "        self.y_test = y        \n",
    "    \n",
    "    def split(self, percentage):\n",
    "        n_train = int(len(self.X) * percentage)\n",
    "        self.x_train = self.X[:n_train]\n",
    "        self.y_train = self.y[:n_train]\n",
    "        self.x_test = self.X[n_train:]\n",
    "        self.y_test = self.y[n_train:]\n",
    "    \n",
    "    def __len__(self):\n",
    "        return len(self.y)\n",
    "    \n",
    "    def __repr__(self):\n",
    "        cls = self.__class__.__name__\n",
    "        n = len(self.y)\n",
    "        num_features = self.X.shape[1]\n",
    "        return f'{cls}(samples={n}, features={num_features})'"
   ]
  },
  {
   "cell_type": "code",
   "execution_count": 13,
   "metadata": {},
   "outputs": [],
   "source": [
    "class Learner:\n",
    "    def __init__(self, name, model, param):\n",
    "        self.name = name\n",
    "        self.model = model\n",
    "        self.params = param\n",
    "        self.data = Dataset\n",
    "    \n",
    "    def load_data(self, X, y):\n",
    "        self.data.X = X\n",
    "        self.data.y = y\n",
    "    \n",
    "    def train_model(self):\n",
    "        pass\n",
    "    \n",
    "    def eval_model(self):\n",
    "        pass\n",
    "    \n",
    "    def __repr__(self):\n",
    "        cls = self.__class__.__name__\n",
    "        return f'{cls}(model={self.name!r})'"
   ]
  },
  {
   "cell_type": "code",
   "execution_count": 14,
   "metadata": {},
   "outputs": [],
   "source": [
    "X = np.array([[0, 0], [1, 1], [1, 0], [0, 1]])\n",
    "y = np.array([0, 0, 1, 1])"
   ]
  },
  {
   "cell_type": "code",
   "execution_count": 20,
   "metadata": {},
   "outputs": [],
   "source": [
    "d = Dataset(X, y)"
   ]
  },
  {
   "cell_type": "code",
   "execution_count": 25,
   "metadata": {},
   "outputs": [
    {
     "data": {
      "text/plain": [
       "4"
      ]
     },
     "execution_count": 25,
     "metadata": {},
     "output_type": "execute_result"
    }
   ],
   "source": [
    "len(d)"
   ]
  },
  {
   "cell_type": "code",
   "execution_count": 17,
   "metadata": {},
   "outputs": [],
   "source": [
    "l = Learner(\"SVM\", clf, [])"
   ]
  },
  {
   "cell_type": "code",
   "execution_count": 18,
   "metadata": {},
   "outputs": [],
   "source": [
    "l.load_data(X,y)"
   ]
  }
 ],
 "metadata": {
  "kernelspec": {
   "display_name": "base",
   "language": "python",
   "name": "python3"
  },
  "language_info": {
   "codemirror_mode": {
    "name": "ipython",
    "version": 3
   },
   "file_extension": ".py",
   "mimetype": "text/x-python",
   "name": "python",
   "nbconvert_exporter": "python",
   "pygments_lexer": "ipython3",
   "version": "3.12.3"
  }
 },
 "nbformat": 4,
 "nbformat_minor": 2
}

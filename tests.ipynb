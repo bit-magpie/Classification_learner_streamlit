{
 "cells": [
  {
   "cell_type": "code",
   "execution_count": 112,
   "metadata": {},
   "outputs": [],
   "source": [
    "import numpy as np\n",
    "from sklearn import svm\n",
    "import pandas as pd"
   ]
  },
  {
   "cell_type": "code",
   "execution_count": 11,
   "metadata": {},
   "outputs": [],
   "source": [
    "clf = svm.SVC()"
   ]
  },
  {
   "cell_type": "code",
   "execution_count": 103,
   "metadata": {},
   "outputs": [],
   "source": [
    "class Dataset:\n",
    "    def __init__(self, X, y):\n",
    "        self.X = X\n",
    "        self.y = y\n",
    "        self.x_train = X\n",
    "        self.y_train = y\n",
    "        self.x_test = X\n",
    "        self.y_test = y        \n",
    "    \n",
    "    def split(self, percentage):\n",
    "        idx = np.arange(len(self.X))\n",
    "        np.random.shuffle(idx)\n",
    "        \n",
    "        sX = self.X[idx]\n",
    "        sy = self.y[idx]\n",
    "        \n",
    "        n_train = int(len(self.X) * percentage)\n",
    "        self.x_train = sX[:n_train]\n",
    "        self.y_train = sy[:n_train]\n",
    "        self.x_test = sX[n_train:]\n",
    "        self.y_test = sy[n_train:]\n",
    "    \n",
    "    def __len__(self):\n",
    "        return len(self.y)\n",
    "    \n",
    "    def __repr__(self):\n",
    "        cls = self.__class__.__name__\n",
    "        n = len(self.y)\n",
    "        num_features = self.X.shape[1]\n",
    "        return f'{cls}(samples={n}, features={num_features})'"
   ]
  },
  {
   "cell_type": "code",
   "execution_count": null,
   "metadata": {},
   "outputs": [],
   "source": [
    "class Learner:\n",
    "    def __init__(self, name, model, param):\n",
    "        self.name = name\n",
    "        self.model = model\n",
    "        self.params = param\n",
    "        self.data = None\n",
    "    \n",
    "    def load_data(self, X, y):\n",
    "        self.data = Dataset(X, y)\n",
    "    \n",
    "    def train_model(self):\n",
    "        if self.data == None:\n",
    "            print(\"Dataset has not been set.\")\n",
    "        else:\n",
    "            self.model.fit(self.data.x_train, self.data.y_train)            \n",
    "    \n",
    "    def eval_model(self):\n",
    "        pass\n",
    "    \n",
    "    def __repr__(self):\n",
    "        cls = self.__class__.__name__\n",
    "        return f'{cls}(model={self.name!r})'"
   ]
  },
  {
   "cell_type": "code",
   "execution_count": 39,
   "metadata": {},
   "outputs": [],
   "source": [
    "X = np.array([[0, 0], [1, 1], [1, 0], [0, 1]])\n",
    "y = np.array([0, 0, 1, 1])"
   ]
  },
  {
   "cell_type": "code",
   "execution_count": 70,
   "metadata": {},
   "outputs": [],
   "source": [
    "df = pd.read_csv(\"iris.csv\")"
   ]
  },
  {
   "cell_type": "code",
   "execution_count": 71,
   "metadata": {},
   "outputs": [],
   "source": [
    "# df.species = pd.Categorical(df.species)\n",
    "df[['classes']] = df[['species']].apply(lambda col:pd.Categorical(col).codes)\n"
   ]
  },
  {
   "cell_type": "code",
   "execution_count": 79,
   "metadata": {},
   "outputs": [],
   "source": [
    "X = df.iloc[:, 0:-2].copy().to_numpy()\n",
    "y = df.iloc[:,-1].copy().to_numpy()"
   ]
  },
  {
   "cell_type": "code",
   "execution_count": 104,
   "metadata": {},
   "outputs": [],
   "source": [
    "d = Dataset(X, y)"
   ]
  },
  {
   "cell_type": "code",
   "execution_count": 105,
   "metadata": {},
   "outputs": [],
   "source": [
    "d.split(0.8)"
   ]
  },
  {
   "cell_type": "code",
   "execution_count": 106,
   "metadata": {},
   "outputs": [
    {
     "data": {
      "text/plain": [
       "150"
      ]
     },
     "execution_count": 106,
     "metadata": {},
     "output_type": "execute_result"
    }
   ],
   "source": [
    "len(d)"
   ]
  },
  {
   "cell_type": "code",
   "execution_count": 107,
   "metadata": {},
   "outputs": [],
   "source": [
    "l = Learner(\"SVM\", clf, [])"
   ]
  },
  {
   "cell_type": "code",
   "execution_count": 108,
   "metadata": {},
   "outputs": [],
   "source": [
    "l.load_data(X,y)"
   ]
  },
  {
   "cell_type": "code",
   "execution_count": 109,
   "metadata": {},
   "outputs": [],
   "source": [
    "l.train_model()"
   ]
  },
  {
   "cell_type": "code",
   "execution_count": 110,
   "metadata": {},
   "outputs": [
    {
     "data": {
      "text/plain": [
       "array([1, 1, 1, 1, 2, 0, 1, 1, 0, 0, 0, 0, 0, 0, 0, 1, 0, 1, 1, 0, 0, 0,\n",
       "       0, 0, 0, 1, 1, 0, 0, 0], dtype=int8)"
      ]
     },
     "execution_count": 110,
     "metadata": {},
     "output_type": "execute_result"
    }
   ],
   "source": [
    "l.model.predict(d.x_test)"
   ]
  },
  {
   "cell_type": "code",
   "execution_count": 111,
   "metadata": {},
   "outputs": [
    {
     "data": {
      "text/plain": [
       "array([1, 0, 2, 1, 1, 2, 0, 0, 1, 2, 0, 2, 0, 1, 1, 2, 1, 1, 1, 0, 0, 0,\n",
       "       1, 1, 1, 2, 1, 0, 1, 2], dtype=int8)"
      ]
     },
     "execution_count": 111,
     "metadata": {},
     "output_type": "execute_result"
    }
   ],
   "source": [
    "d.y_test"
   ]
  },
  {
   "cell_type": "code",
   "execution_count": 97,
   "metadata": {},
   "outputs": [],
   "source": [
    "idx = np.arange(len(y))\n",
    "np.random.shuffle(idx)"
   ]
  },
  {
   "cell_type": "code",
   "execution_count": 101,
   "metadata": {},
   "outputs": [
    {
     "data": {
      "text/plain": [
       "array([[7.2, 3.2, 6. , 1.8],\n",
       "       [4.9, 2.5, 4.5, 1.7],\n",
       "       [4.9, 2.4, 3.3, 1. ],\n",
       "       [5.4, 3.4, 1.7, 0.2],\n",
       "       [4.8, 3.4, 1.9, 0.2],\n",
       "       [5.5, 2.3, 4. , 1.3],\n",
       "       [5.7, 2.5, 5. , 2. ],\n",
       "       [6.5, 3. , 5.8, 2.2],\n",
       "       [5.4, 3.9, 1.3, 0.4],\n",
       "       [6.1, 2.6, 5.6, 1.4],\n",
       "       [6.3, 2.3, 4.4, 1.3],\n",
       "       [5.9, 3.2, 4.8, 1.8],\n",
       "       [6.7, 2.5, 5.8, 1.8],\n",
       "       [5.1, 3.8, 1.5, 0.3],\n",
       "       [6.2, 2.9, 4.3, 1.3],\n",
       "       [6. , 2.2, 5. , 1.5],\n",
       "       [4.4, 2.9, 1.4, 0.2],\n",
       "       [5.2, 2.7, 3.9, 1.4],\n",
       "       [5.1, 3.3, 1.7, 0.5],\n",
       "       [5.6, 3. , 4.5, 1.5],\n",
       "       [6.1, 2.9, 4.7, 1.4],\n",
       "       [4.9, 3. , 1.4, 0.2],\n",
       "       [6.7, 3.3, 5.7, 2.5],\n",
       "       [4.5, 2.3, 1.3, 0.3],\n",
       "       [5.7, 2.6, 3.5, 1. ],\n",
       "       [5.8, 2.7, 5.1, 1.9],\n",
       "       [5.3, 3.7, 1.5, 0.2],\n",
       "       [5.2, 4.1, 1.5, 0.1],\n",
       "       [4.3, 3. , 1.1, 0.1],\n",
       "       [5.4, 3. , 4.5, 1.5],\n",
       "       [6.3, 2.5, 4.9, 1.5],\n",
       "       [7.2, 3. , 5.8, 1.6],\n",
       "       [4.4, 3.2, 1.3, 0.2],\n",
       "       [6.9, 3.1, 5.1, 2.3],\n",
       "       [6. , 2.7, 5.1, 1.6],\n",
       "       [5.9, 3. , 4.2, 1.5],\n",
       "       [4.9, 3.1, 1.5, 0.1],\n",
       "       [6.3, 2.9, 5.6, 1.8],\n",
       "       [5. , 3.5, 1.3, 0.3],\n",
       "       [6.1, 3. , 4.9, 1.8],\n",
       "       [5.5, 2.4, 3.7, 1. ],\n",
       "       [6.1, 2.8, 4. , 1.3],\n",
       "       [7.4, 2.8, 6.1, 1.9],\n",
       "       [5.1, 3.4, 1.5, 0.2],\n",
       "       [6.5, 3. , 5.5, 1.8],\n",
       "       [5.6, 2.9, 3.6, 1.3],\n",
       "       [6. , 3.4, 4.5, 1.6],\n",
       "       [7.7, 3. , 6.1, 2.3],\n",
       "       [5. , 2.3, 3.3, 1. ],\n",
       "       [6.7, 3.1, 5.6, 2.4],\n",
       "       [7.2, 3.6, 6.1, 2.5],\n",
       "       [5. , 3.4, 1.5, 0.2],\n",
       "       [7.1, 3. , 5.9, 2.1],\n",
       "       [5.8, 2.6, 4. , 1.2],\n",
       "       [6.4, 2.9, 4.3, 1.3],\n",
       "       [5. , 3.5, 1.6, 0.6],\n",
       "       [6.7, 3. , 5. , 1.7],\n",
       "       [6.5, 2.8, 4.6, 1.5],\n",
       "       [6.6, 3. , 4.4, 1.4],\n",
       "       [6.3, 2.8, 5.1, 1.5],\n",
       "       [5.5, 4.2, 1.4, 0.2],\n",
       "       [7.6, 3. , 6.6, 2.1],\n",
       "       [6.3, 3.4, 5.6, 2.4],\n",
       "       [6.9, 3.2, 5.7, 2.3],\n",
       "       [5. , 3.3, 1.4, 0.2],\n",
       "       [4.6, 3.1, 1.5, 0.2],\n",
       "       [6.8, 2.8, 4.8, 1.4],\n",
       "       [6.7, 3.1, 4.4, 1.4],\n",
       "       [7.7, 2.6, 6.9, 2.3],\n",
       "       [4.8, 3.1, 1.6, 0.2],\n",
       "       [6.3, 3.3, 6. , 2.5],\n",
       "       [6.5, 3.2, 5.1, 2. ],\n",
       "       [6.3, 3.3, 4.7, 1.6],\n",
       "       [4.8, 3. , 1.4, 0.3],\n",
       "       [5. , 2. , 3.5, 1. ],\n",
       "       [6.4, 3.1, 5.5, 1.8],\n",
       "       [5.8, 2.7, 5.1, 1.9],\n",
       "       [6.1, 3. , 4.6, 1.4],\n",
       "       [6.2, 2.2, 4.5, 1.5],\n",
       "       [5.1, 3.8, 1.6, 0.2],\n",
       "       [6.1, 2.8, 4.7, 1.2],\n",
       "       [7.7, 3.8, 6.7, 2.2],\n",
       "       [5.7, 3.8, 1.7, 0.3],\n",
       "       [5.6, 2.8, 4.9, 2. ],\n",
       "       [6.3, 2.7, 4.9, 1.8],\n",
       "       [5.5, 2.5, 4. , 1.3],\n",
       "       [6.2, 3.4, 5.4, 2.3],\n",
       "       [5.7, 2.8, 4.1, 1.3],\n",
       "       [6.4, 2.8, 5.6, 2.2],\n",
       "       [7.9, 3.8, 6.4, 2. ],\n",
       "       [4.6, 3.4, 1.4, 0.3],\n",
       "       [5.1, 2.5, 3. , 1.1],\n",
       "       [5.1, 3.5, 1.4, 0.3],\n",
       "       [4.7, 3.2, 1.3, 0.2],\n",
       "       [4.9, 3.1, 1.5, 0.1],\n",
       "       [5.5, 3.5, 1.3, 0.2],\n",
       "       [5. , 3.4, 1.6, 0.4],\n",
       "       [5.4, 3.9, 1.7, 0.4],\n",
       "       [5.7, 3. , 4.2, 1.2],\n",
       "       [5.1, 3.7, 1.5, 0.4],\n",
       "       [6.7, 3. , 5.2, 2.3],\n",
       "       [5.6, 2.5, 3.9, 1.1],\n",
       "       [6. , 3. , 4.8, 1.8],\n",
       "       [5.6, 3. , 4.1, 1.3],\n",
       "       [6.9, 3.1, 5.4, 2.1],\n",
       "       [5.8, 2.7, 4.1, 1. ],\n",
       "       [7.3, 2.9, 6.3, 1.8],\n",
       "       [6. , 2.2, 4. , 1. ],\n",
       "       [5. , 3. , 1.6, 0.2],\n",
       "       [6.7, 3.3, 5.7, 2.1],\n",
       "       [5. , 3.2, 1.2, 0.2],\n",
       "       [6.4, 2.8, 5.6, 2.1],\n",
       "       [5.2, 3.5, 1.5, 0.2],\n",
       "       [6.4, 2.7, 5.3, 1.9],\n",
       "       [5.1, 3.5, 1.4, 0.2],\n",
       "       [5.5, 2.6, 4.4, 1.2],\n",
       "       [4.6, 3.6, 1. , 0.2],\n",
       "       [6.3, 2.5, 5. , 1.9],\n",
       "       [6.9, 3.1, 4.9, 1.5],\n",
       "       [5.8, 4. , 1.2, 0.2],\n",
       "       [4.4, 3. , 1.3, 0.2],\n",
       "       [6.8, 3. , 5.5, 2.1],\n",
       "       [4.9, 3.1, 1.5, 0.1],\n",
       "       [7.7, 2.8, 6.7, 2. ],\n",
       "       [7. , 3.2, 4.7, 1.4],\n",
       "       [4.8, 3.4, 1.6, 0.2],\n",
       "       [5.9, 3. , 5.1, 1.8],\n",
       "       [5. , 3.6, 1.4, 0.2],\n",
       "       [5.7, 2.9, 4.2, 1.3],\n",
       "       [6.2, 2.8, 4.8, 1.8],\n",
       "       [6. , 2.9, 4.5, 1.5],\n",
       "       [5.8, 2.8, 5.1, 2.4],\n",
       "       [5.7, 4.4, 1.5, 0.4],\n",
       "       [5.4, 3.4, 1.5, 0.4],\n",
       "       [6.4, 3.2, 5.3, 2.3],\n",
       "       [5.5, 2.4, 3.8, 1.1],\n",
       "       [6.6, 2.9, 4.6, 1.3],\n",
       "       [6.4, 3.2, 4.5, 1.5],\n",
       "       [5.8, 2.7, 3.9, 1.2],\n",
       "       [6.8, 3.2, 5.9, 2.3],\n",
       "       [4.7, 3.2, 1.6, 0.2],\n",
       "       [6.5, 3. , 5.2, 2. ],\n",
       "       [6.7, 3.1, 4.7, 1.5],\n",
       "       [5.7, 2.8, 4.5, 1.3],\n",
       "       [4.6, 3.2, 1.4, 0.2],\n",
       "       [5.2, 3.4, 1.4, 0.2],\n",
       "       [5.1, 3.8, 1.9, 0.4],\n",
       "       [4.8, 3. , 1.4, 0.1],\n",
       "       [5.6, 2.7, 4.2, 1.3],\n",
       "       [5.4, 3.7, 1.5, 0.2]])"
      ]
     },
     "execution_count": 101,
     "metadata": {},
     "output_type": "execute_result"
    }
   ],
   "source": [
    "X[idx]"
   ]
  },
  {
   "cell_type": "code",
   "execution_count": 142,
   "metadata": {},
   "outputs": [],
   "source": [
    "import learner_module\n",
    "import pandas as pd"
   ]
  },
  {
   "cell_type": "code",
   "execution_count": 143,
   "metadata": {},
   "outputs": [],
   "source": [
    "l = learner_module.classification_algorithms"
   ]
  },
  {
   "cell_type": "code",
   "execution_count": 146,
   "metadata": {},
   "outputs": [
    {
     "data": {
      "text/plain": [
       "dict_keys(['LR', 'DTC', 'RFC', 'GBC', 'KNN', 'LSVM', 'Q-SVM', 'C-SVM', 'RBF-SVM', 'GNB', 'MNB', 'MLP', 'KMC', 'GMM'])"
      ]
     },
     "execution_count": 146,
     "metadata": {},
     "output_type": "execute_result"
    }
   ],
   "source": [
    "l.keys()"
   ]
  },
  {
   "cell_type": "code",
   "execution_count": null,
   "metadata": {},
   "outputs": [],
   "source": [
    "for k,v in learner_module.classification_algorithms.items():\n",
    "    print(v)"
   ]
  },
  {
   "cell_type": "code",
   "execution_count": 6,
   "metadata": {},
   "outputs": [],
   "source": [
    "df = pd.DataFrame.from_dict(learner_module.classification_algorithms)"
   ]
  },
  {
   "cell_type": "code",
   "execution_count": 8,
   "metadata": {},
   "outputs": [
    {
     "data": {
      "text/html": [
       "<div>\n",
       "<style scoped>\n",
       "    .dataframe tbody tr th:only-of-type {\n",
       "        vertical-align: middle;\n",
       "    }\n",
       "\n",
       "    .dataframe tbody tr th {\n",
       "        vertical-align: top;\n",
       "    }\n",
       "\n",
       "    .dataframe thead th {\n",
       "        text-align: right;\n",
       "    }\n",
       "</style>\n",
       "<table border=\"1\" class=\"dataframe\">\n",
       "  <thead>\n",
       "    <tr style=\"text-align: right;\">\n",
       "      <th></th>\n",
       "      <th>long_name</th>\n",
       "      <th>function</th>\n",
       "      <th>parameters</th>\n",
       "    </tr>\n",
       "  </thead>\n",
       "  <tbody>\n",
       "    <tr>\n",
       "      <th>LR</th>\n",
       "      <td>Logistic Regression</td>\n",
       "      <td>&lt;class 'sklearn.linear_model._logistic.Logisti...</td>\n",
       "      <td>[penalty, C, solver, max_iter]</td>\n",
       "    </tr>\n",
       "    <tr>\n",
       "      <th>DTC</th>\n",
       "      <td>Decision Tree Classifier</td>\n",
       "      <td>&lt;class 'sklearn.tree._classes.DecisionTreeClas...</td>\n",
       "      <td>[criterion, max_depth, min_samples_split, min_...</td>\n",
       "    </tr>\n",
       "    <tr>\n",
       "      <th>RFC</th>\n",
       "      <td>Random Forest Classifier</td>\n",
       "      <td>&lt;class 'sklearn.ensemble._forest.RandomForestC...</td>\n",
       "      <td>[n_estimators, criterion, max_depth, min_sampl...</td>\n",
       "    </tr>\n",
       "    <tr>\n",
       "      <th>GBC</th>\n",
       "      <td>Gradient Boosting Classifier</td>\n",
       "      <td>&lt;class 'sklearn.ensemble._gb.GradientBoostingC...</td>\n",
       "      <td>[n_estimators, learning_rate, max_depth, subsa...</td>\n",
       "    </tr>\n",
       "    <tr>\n",
       "      <th>KNN</th>\n",
       "      <td>K-Nearest Neighbors Classifier</td>\n",
       "      <td>&lt;class 'sklearn.neighbors._classification.KNei...</td>\n",
       "      <td>[n_neighbors, weights, algorithm, p]</td>\n",
       "    </tr>\n",
       "    <tr>\n",
       "      <th>LSVM</th>\n",
       "      <td>Linear Support Vector Machine</td>\n",
       "      <td>&lt;class 'sklearn.svm._classes.SVC'&gt;</td>\n",
       "      <td>[kernel='linear', C, max_iter]</td>\n",
       "    </tr>\n",
       "    <tr>\n",
       "      <th>Q-SVM</th>\n",
       "      <td>Quadratic Support Vector Machine</td>\n",
       "      <td>&lt;class 'sklearn.svm._classes.SVC'&gt;</td>\n",
       "      <td>[kernel='poly', degree=2, C, gamma]</td>\n",
       "    </tr>\n",
       "    <tr>\n",
       "      <th>C-SVM</th>\n",
       "      <td>Cubic Support Vector Machine</td>\n",
       "      <td>&lt;class 'sklearn.svm._classes.SVC'&gt;</td>\n",
       "      <td>[kernel='poly', degree=3, C, gamma]</td>\n",
       "    </tr>\n",
       "    <tr>\n",
       "      <th>RBF-SVM</th>\n",
       "      <td>Radial Basis Function Support Vector Machine</td>\n",
       "      <td>&lt;class 'sklearn.svm._classes.SVC'&gt;</td>\n",
       "      <td>[kernel='rbf', C, gamma]</td>\n",
       "    </tr>\n",
       "    <tr>\n",
       "      <th>GNB</th>\n",
       "      <td>Gaussian Naive Bayes</td>\n",
       "      <td>&lt;class 'sklearn.naive_bayes.GaussianNB'&gt;</td>\n",
       "      <td>[var_smoothing]</td>\n",
       "    </tr>\n",
       "    <tr>\n",
       "      <th>MNB</th>\n",
       "      <td>Multinomial Naive Bayes</td>\n",
       "      <td>&lt;class 'sklearn.naive_bayes.MultinomialNB'&gt;</td>\n",
       "      <td>[alpha, fit_prior]</td>\n",
       "    </tr>\n",
       "    <tr>\n",
       "      <th>MLP</th>\n",
       "      <td>Multi-Layer Perceptron Classifier</td>\n",
       "      <td>&lt;class 'sklearn.neural_network._multilayer_per...</td>\n",
       "      <td>[hidden_layer_sizes, activation, solver, learn...</td>\n",
       "    </tr>\n",
       "    <tr>\n",
       "      <th>KMC</th>\n",
       "      <td>K-Means Clustering (used for classification vi...</td>\n",
       "      <td>&lt;class 'sklearn.cluster._kmeans.KMeans'&gt;</td>\n",
       "      <td>[n_clusters, init, n_init, max_iter]</td>\n",
       "    </tr>\n",
       "    <tr>\n",
       "      <th>GMM</th>\n",
       "      <td>Gaussian Mixture Model (used for classificatio...</td>\n",
       "      <td>&lt;class 'sklearn.mixture._gaussian_mixture.Gaus...</td>\n",
       "      <td>[n_components, covariance_type, init_params, m...</td>\n",
       "    </tr>\n",
       "  </tbody>\n",
       "</table>\n",
       "</div>"
      ],
      "text/plain": [
       "                                                 long_name  \\\n",
       "LR                                     Logistic Regression   \n",
       "DTC                               Decision Tree Classifier   \n",
       "RFC                               Random Forest Classifier   \n",
       "GBC                           Gradient Boosting Classifier   \n",
       "KNN                         K-Nearest Neighbors Classifier   \n",
       "LSVM                         Linear Support Vector Machine   \n",
       "Q-SVM                     Quadratic Support Vector Machine   \n",
       "C-SVM                         Cubic Support Vector Machine   \n",
       "RBF-SVM       Radial Basis Function Support Vector Machine   \n",
       "GNB                                   Gaussian Naive Bayes   \n",
       "MNB                                Multinomial Naive Bayes   \n",
       "MLP                      Multi-Layer Perceptron Classifier   \n",
       "KMC      K-Means Clustering (used for classification vi...   \n",
       "GMM      Gaussian Mixture Model (used for classificatio...   \n",
       "\n",
       "                                                  function  \\\n",
       "LR       <class 'sklearn.linear_model._logistic.Logisti...   \n",
       "DTC      <class 'sklearn.tree._classes.DecisionTreeClas...   \n",
       "RFC      <class 'sklearn.ensemble._forest.RandomForestC...   \n",
       "GBC      <class 'sklearn.ensemble._gb.GradientBoostingC...   \n",
       "KNN      <class 'sklearn.neighbors._classification.KNei...   \n",
       "LSVM                    <class 'sklearn.svm._classes.SVC'>   \n",
       "Q-SVM                   <class 'sklearn.svm._classes.SVC'>   \n",
       "C-SVM                   <class 'sklearn.svm._classes.SVC'>   \n",
       "RBF-SVM                 <class 'sklearn.svm._classes.SVC'>   \n",
       "GNB               <class 'sklearn.naive_bayes.GaussianNB'>   \n",
       "MNB            <class 'sklearn.naive_bayes.MultinomialNB'>   \n",
       "MLP      <class 'sklearn.neural_network._multilayer_per...   \n",
       "KMC               <class 'sklearn.cluster._kmeans.KMeans'>   \n",
       "GMM      <class 'sklearn.mixture._gaussian_mixture.Gaus...   \n",
       "\n",
       "                                                parameters  \n",
       "LR                          [penalty, C, solver, max_iter]  \n",
       "DTC      [criterion, max_depth, min_samples_split, min_...  \n",
       "RFC      [n_estimators, criterion, max_depth, min_sampl...  \n",
       "GBC      [n_estimators, learning_rate, max_depth, subsa...  \n",
       "KNN                   [n_neighbors, weights, algorithm, p]  \n",
       "LSVM                        [kernel='linear', C, max_iter]  \n",
       "Q-SVM                  [kernel='poly', degree=2, C, gamma]  \n",
       "C-SVM                  [kernel='poly', degree=3, C, gamma]  \n",
       "RBF-SVM                           [kernel='rbf', C, gamma]  \n",
       "GNB                                        [var_smoothing]  \n",
       "MNB                                     [alpha, fit_prior]  \n",
       "MLP      [hidden_layer_sizes, activation, solver, learn...  \n",
       "KMC                   [n_clusters, init, n_init, max_iter]  \n",
       "GMM      [n_components, covariance_type, init_params, m...  "
      ]
     },
     "execution_count": 8,
     "metadata": {},
     "output_type": "execute_result"
    }
   ],
   "source": [
    "df.T"
   ]
  }
 ],
 "metadata": {
  "kernelspec": {
   "display_name": "base",
   "language": "python",
   "name": "python3"
  },
  "language_info": {
   "codemirror_mode": {
    "name": "ipython",
    "version": 3
   },
   "file_extension": ".py",
   "mimetype": "text/x-python",
   "name": "python",
   "nbconvert_exporter": "python",
   "pygments_lexer": "ipython3",
   "version": "3.12.3"
  }
 },
 "nbformat": 4,
 "nbformat_minor": 2
}

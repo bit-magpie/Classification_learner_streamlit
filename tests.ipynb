{
 "cells": [
  {
   "cell_type": "code",
   "execution_count": 112,
   "metadata": {},
   "outputs": [],
   "source": [
    "import numpy as np\n",
    "from sklearn import svm\n",
    "import pandas as pd"
   ]
  },
  {
   "cell_type": "code",
   "execution_count": 11,
   "metadata": {},
   "outputs": [],
   "source": [
    "clf = svm.SVC()"
   ]
  },
  {
   "cell_type": "code",
   "execution_count": 103,
   "metadata": {},
   "outputs": [],
   "source": [
    "class Dataset:\n",
    "    def __init__(self, X, y):\n",
    "        self.X = X\n",
    "        self.y = y\n",
    "        self.x_train = X\n",
    "        self.y_train = y\n",
    "        self.x_test = X\n",
    "        self.y_test = y        \n",
    "    \n",
    "    def split(self, percentage):\n",
    "        idx = np.arange(len(self.X))\n",
    "        np.random.shuffle(idx)\n",
    "        \n",
    "        sX = self.X[idx]\n",
    "        sy = self.y[idx]\n",
    "        \n",
    "        n_train = int(len(self.X) * percentage)\n",
    "        self.x_train = sX[:n_train]\n",
    "        self.y_train = sy[:n_train]\n",
    "        self.x_test = sX[n_train:]\n",
    "        self.y_test = sy[n_train:]\n",
    "    \n",
    "    def __len__(self):\n",
    "        return len(self.y)\n",
    "    \n",
    "    def __repr__(self):\n",
    "        cls = self.__class__.__name__\n",
    "        n = len(self.y)\n",
    "        num_features = self.X.shape[1]\n",
    "        return f'{cls}(samples={n}, features={num_features})'"
   ]
  },
  {
   "cell_type": "code",
   "execution_count": null,
   "metadata": {},
   "outputs": [],
   "source": [
    "class Learner:\n",
    "    def __init__(self, name, model, param):\n",
    "        self.name = name\n",
    "        self.model = model\n",
    "        self.params = param\n",
    "        self.data = None\n",
    "    \n",
    "    def load_data(self, X, y):\n",
    "        self.data = Dataset(X, y)\n",
    "    \n",
    "    def train_model(self):\n",
    "        if self.data == None:\n",
    "            print(\"Dataset has not been set.\")\n",
    "        else:\n",
    "            self.model.fit(self.data.x_train, self.data.y_train)            \n",
    "    \n",
    "    def eval_model(self):\n",
    "        pass\n",
    "    \n",
    "    def __repr__(self):\n",
    "        cls = self.__class__.__name__\n",
    "        return f'{cls}(model={self.name!r})'"
   ]
  },
  {
   "cell_type": "code",
   "execution_count": 39,
   "metadata": {},
   "outputs": [],
   "source": [
    "X = np.array([[0, 0], [1, 1], [1, 0], [0, 1]])\n",
    "y = np.array([0, 0, 1, 1])"
   ]
  },
  {
   "cell_type": "code",
   "execution_count": 70,
   "metadata": {},
   "outputs": [],
   "source": [
    "df = pd.read_csv(\"iris.csv\")"
   ]
  },
  {
   "cell_type": "code",
   "execution_count": 71,
   "metadata": {},
   "outputs": [],
   "source": [
    "# df.species = pd.Categorical(df.species)\n",
    "df[['classes']] = df[['species']].apply(lambda col:pd.Categorical(col).codes)\n"
   ]
  },
  {
   "cell_type": "code",
   "execution_count": 79,
   "metadata": {},
   "outputs": [],
   "source": [
    "X = df.iloc[:, 0:-2].copy().to_numpy()\n",
    "y = df.iloc[:,-1].copy().to_numpy()"
   ]
  },
  {
   "cell_type": "code",
   "execution_count": 104,
   "metadata": {},
   "outputs": [],
   "source": [
    "d = Dataset(X, y)"
   ]
  },
  {
   "cell_type": "code",
   "execution_count": 105,
   "metadata": {},
   "outputs": [],
   "source": [
    "d.split(0.8)"
   ]
  },
  {
   "cell_type": "code",
   "execution_count": 106,
   "metadata": {},
   "outputs": [
    {
     "data": {
      "text/plain": [
       "150"
      ]
     },
     "execution_count": 106,
     "metadata": {},
     "output_type": "execute_result"
    }
   ],
   "source": [
    "len(d)"
   ]
  },
  {
   "cell_type": "code",
   "execution_count": 107,
   "metadata": {},
   "outputs": [],
   "source": [
    "l = Learner(\"SVM\", clf, [])"
   ]
  },
  {
   "cell_type": "code",
   "execution_count": 108,
   "metadata": {},
   "outputs": [],
   "source": [
    "l.load_data(X,y)"
   ]
  },
  {
   "cell_type": "code",
   "execution_count": 109,
   "metadata": {},
   "outputs": [],
   "source": [
    "l.train_model()"
   ]
  },
  {
   "cell_type": "code",
   "execution_count": 110,
   "metadata": {},
   "outputs": [
    {
     "data": {
      "text/plain": [
       "array([1, 1, 1, 1, 2, 0, 1, 1, 0, 0, 0, 0, 0, 0, 0, 1, 0, 1, 1, 0, 0, 0,\n",
       "       0, 0, 0, 1, 1, 0, 0, 0], dtype=int8)"
      ]
     },
     "execution_count": 110,
     "metadata": {},
     "output_type": "execute_result"
    }
   ],
   "source": [
    "l.model.predict(d.x_test)"
   ]
  },
  {
   "cell_type": "code",
   "execution_count": 111,
   "metadata": {},
   "outputs": [
    {
     "data": {
      "text/plain": [
       "array([1, 0, 2, 1, 1, 2, 0, 0, 1, 2, 0, 2, 0, 1, 1, 2, 1, 1, 1, 0, 0, 0,\n",
       "       1, 1, 1, 2, 1, 0, 1, 2], dtype=int8)"
      ]
     },
     "execution_count": 111,
     "metadata": {},
     "output_type": "execute_result"
    }
   ],
   "source": [
    "d.y_test"
   ]
  },
  {
   "cell_type": "code",
   "execution_count": 97,
   "metadata": {},
   "outputs": [],
   "source": [
    "idx = np.arange(len(y))\n",
    "np.random.shuffle(idx)"
   ]
  },
  {
   "cell_type": "code",
   "execution_count": 101,
   "metadata": {},
   "outputs": [
    {
     "data": {
      "text/plain": [
       "array([[7.2, 3.2, 6. , 1.8],\n",
       "       [4.9, 2.5, 4.5, 1.7],\n",
       "       [4.9, 2.4, 3.3, 1. ],\n",
       "       [5.4, 3.4, 1.7, 0.2],\n",
       "       [4.8, 3.4, 1.9, 0.2],\n",
       "       [5.5, 2.3, 4. , 1.3],\n",
       "       [5.7, 2.5, 5. , 2. ],\n",
       "       [6.5, 3. , 5.8, 2.2],\n",
       "       [5.4, 3.9, 1.3, 0.4],\n",
       "       [6.1, 2.6, 5.6, 1.4],\n",
       "       [6.3, 2.3, 4.4, 1.3],\n",
       "       [5.9, 3.2, 4.8, 1.8],\n",
       "       [6.7, 2.5, 5.8, 1.8],\n",
       "       [5.1, 3.8, 1.5, 0.3],\n",
       "       [6.2, 2.9, 4.3, 1.3],\n",
       "       [6. , 2.2, 5. , 1.5],\n",
       "       [4.4, 2.9, 1.4, 0.2],\n",
       "       [5.2, 2.7, 3.9, 1.4],\n",
       "       [5.1, 3.3, 1.7, 0.5],\n",
       "       [5.6, 3. , 4.5, 1.5],\n",
       "       [6.1, 2.9, 4.7, 1.4],\n",
       "       [4.9, 3. , 1.4, 0.2],\n",
       "       [6.7, 3.3, 5.7, 2.5],\n",
       "       [4.5, 2.3, 1.3, 0.3],\n",
       "       [5.7, 2.6, 3.5, 1. ],\n",
       "       [5.8, 2.7, 5.1, 1.9],\n",
       "       [5.3, 3.7, 1.5, 0.2],\n",
       "       [5.2, 4.1, 1.5, 0.1],\n",
       "       [4.3, 3. , 1.1, 0.1],\n",
       "       [5.4, 3. , 4.5, 1.5],\n",
       "       [6.3, 2.5, 4.9, 1.5],\n",
       "       [7.2, 3. , 5.8, 1.6],\n",
       "       [4.4, 3.2, 1.3, 0.2],\n",
       "       [6.9, 3.1, 5.1, 2.3],\n",
       "       [6. , 2.7, 5.1, 1.6],\n",
       "       [5.9, 3. , 4.2, 1.5],\n",
       "       [4.9, 3.1, 1.5, 0.1],\n",
       "       [6.3, 2.9, 5.6, 1.8],\n",
       "       [5. , 3.5, 1.3, 0.3],\n",
       "       [6.1, 3. , 4.9, 1.8],\n",
       "       [5.5, 2.4, 3.7, 1. ],\n",
       "       [6.1, 2.8, 4. , 1.3],\n",
       "       [7.4, 2.8, 6.1, 1.9],\n",
       "       [5.1, 3.4, 1.5, 0.2],\n",
       "       [6.5, 3. , 5.5, 1.8],\n",
       "       [5.6, 2.9, 3.6, 1.3],\n",
       "       [6. , 3.4, 4.5, 1.6],\n",
       "       [7.7, 3. , 6.1, 2.3],\n",
       "       [5. , 2.3, 3.3, 1. ],\n",
       "       [6.7, 3.1, 5.6, 2.4],\n",
       "       [7.2, 3.6, 6.1, 2.5],\n",
       "       [5. , 3.4, 1.5, 0.2],\n",
       "       [7.1, 3. , 5.9, 2.1],\n",
       "       [5.8, 2.6, 4. , 1.2],\n",
       "       [6.4, 2.9, 4.3, 1.3],\n",
       "       [5. , 3.5, 1.6, 0.6],\n",
       "       [6.7, 3. , 5. , 1.7],\n",
       "       [6.5, 2.8, 4.6, 1.5],\n",
       "       [6.6, 3. , 4.4, 1.4],\n",
       "       [6.3, 2.8, 5.1, 1.5],\n",
       "       [5.5, 4.2, 1.4, 0.2],\n",
       "       [7.6, 3. , 6.6, 2.1],\n",
       "       [6.3, 3.4, 5.6, 2.4],\n",
       "       [6.9, 3.2, 5.7, 2.3],\n",
       "       [5. , 3.3, 1.4, 0.2],\n",
       "       [4.6, 3.1, 1.5, 0.2],\n",
       "       [6.8, 2.8, 4.8, 1.4],\n",
       "       [6.7, 3.1, 4.4, 1.4],\n",
       "       [7.7, 2.6, 6.9, 2.3],\n",
       "       [4.8, 3.1, 1.6, 0.2],\n",
       "       [6.3, 3.3, 6. , 2.5],\n",
       "       [6.5, 3.2, 5.1, 2. ],\n",
       "       [6.3, 3.3, 4.7, 1.6],\n",
       "       [4.8, 3. , 1.4, 0.3],\n",
       "       [5. , 2. , 3.5, 1. ],\n",
       "       [6.4, 3.1, 5.5, 1.8],\n",
       "       [5.8, 2.7, 5.1, 1.9],\n",
       "       [6.1, 3. , 4.6, 1.4],\n",
       "       [6.2, 2.2, 4.5, 1.5],\n",
       "       [5.1, 3.8, 1.6, 0.2],\n",
       "       [6.1, 2.8, 4.7, 1.2],\n",
       "       [7.7, 3.8, 6.7, 2.2],\n",
       "       [5.7, 3.8, 1.7, 0.3],\n",
       "       [5.6, 2.8, 4.9, 2. ],\n",
       "       [6.3, 2.7, 4.9, 1.8],\n",
       "       [5.5, 2.5, 4. , 1.3],\n",
       "       [6.2, 3.4, 5.4, 2.3],\n",
       "       [5.7, 2.8, 4.1, 1.3],\n",
       "       [6.4, 2.8, 5.6, 2.2],\n",
       "       [7.9, 3.8, 6.4, 2. ],\n",
       "       [4.6, 3.4, 1.4, 0.3],\n",
       "       [5.1, 2.5, 3. , 1.1],\n",
       "       [5.1, 3.5, 1.4, 0.3],\n",
       "       [4.7, 3.2, 1.3, 0.2],\n",
       "       [4.9, 3.1, 1.5, 0.1],\n",
       "       [5.5, 3.5, 1.3, 0.2],\n",
       "       [5. , 3.4, 1.6, 0.4],\n",
       "       [5.4, 3.9, 1.7, 0.4],\n",
       "       [5.7, 3. , 4.2, 1.2],\n",
       "       [5.1, 3.7, 1.5, 0.4],\n",
       "       [6.7, 3. , 5.2, 2.3],\n",
       "       [5.6, 2.5, 3.9, 1.1],\n",
       "       [6. , 3. , 4.8, 1.8],\n",
       "       [5.6, 3. , 4.1, 1.3],\n",
       "       [6.9, 3.1, 5.4, 2.1],\n",
       "       [5.8, 2.7, 4.1, 1. ],\n",
       "       [7.3, 2.9, 6.3, 1.8],\n",
       "       [6. , 2.2, 4. , 1. ],\n",
       "       [5. , 3. , 1.6, 0.2],\n",
       "       [6.7, 3.3, 5.7, 2.1],\n",
       "       [5. , 3.2, 1.2, 0.2],\n",
       "       [6.4, 2.8, 5.6, 2.1],\n",
       "       [5.2, 3.5, 1.5, 0.2],\n",
       "       [6.4, 2.7, 5.3, 1.9],\n",
       "       [5.1, 3.5, 1.4, 0.2],\n",
       "       [5.5, 2.6, 4.4, 1.2],\n",
       "       [4.6, 3.6, 1. , 0.2],\n",
       "       [6.3, 2.5, 5. , 1.9],\n",
       "       [6.9, 3.1, 4.9, 1.5],\n",
       "       [5.8, 4. , 1.2, 0.2],\n",
       "       [4.4, 3. , 1.3, 0.2],\n",
       "       [6.8, 3. , 5.5, 2.1],\n",
       "       [4.9, 3.1, 1.5, 0.1],\n",
       "       [7.7, 2.8, 6.7, 2. ],\n",
       "       [7. , 3.2, 4.7, 1.4],\n",
       "       [4.8, 3.4, 1.6, 0.2],\n",
       "       [5.9, 3. , 5.1, 1.8],\n",
       "       [5. , 3.6, 1.4, 0.2],\n",
       "       [5.7, 2.9, 4.2, 1.3],\n",
       "       [6.2, 2.8, 4.8, 1.8],\n",
       "       [6. , 2.9, 4.5, 1.5],\n",
       "       [5.8, 2.8, 5.1, 2.4],\n",
       "       [5.7, 4.4, 1.5, 0.4],\n",
       "       [5.4, 3.4, 1.5, 0.4],\n",
       "       [6.4, 3.2, 5.3, 2.3],\n",
       "       [5.5, 2.4, 3.8, 1.1],\n",
       "       [6.6, 2.9, 4.6, 1.3],\n",
       "       [6.4, 3.2, 4.5, 1.5],\n",
       "       [5.8, 2.7, 3.9, 1.2],\n",
       "       [6.8, 3.2, 5.9, 2.3],\n",
       "       [4.7, 3.2, 1.6, 0.2],\n",
       "       [6.5, 3. , 5.2, 2. ],\n",
       "       [6.7, 3.1, 4.7, 1.5],\n",
       "       [5.7, 2.8, 4.5, 1.3],\n",
       "       [4.6, 3.2, 1.4, 0.2],\n",
       "       [5.2, 3.4, 1.4, 0.2],\n",
       "       [5.1, 3.8, 1.9, 0.4],\n",
       "       [4.8, 3. , 1.4, 0.1],\n",
       "       [5.6, 2.7, 4.2, 1.3],\n",
       "       [5.4, 3.7, 1.5, 0.2]])"
      ]
     },
     "execution_count": 101,
     "metadata": {},
     "output_type": "execute_result"
    }
   ],
   "source": [
    "X[idx]"
   ]
  }
 ],
 "metadata": {
  "kernelspec": {
   "display_name": "base",
   "language": "python",
   "name": "python3"
  },
  "language_info": {
   "codemirror_mode": {
    "name": "ipython",
    "version": 3
   },
   "file_extension": ".py",
   "mimetype": "text/x-python",
   "name": "python",
   "nbconvert_exporter": "python",
   "pygments_lexer": "ipython3",
   "version": "3.12.3"
  }
 },
 "nbformat": 4,
 "nbformat_minor": 2
}

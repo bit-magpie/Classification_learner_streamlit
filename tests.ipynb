{
 "cells": [
  {
   "cell_type": "code",
   "execution_count": 195,
   "metadata": {},
   "outputs": [],
   "source": [
    "import numpy as np\n",
    "from sklearn import svm\n",
    "import pandas as pd"
   ]
  },
  {
   "cell_type": "code",
   "execution_count": 196,
   "metadata": {},
   "outputs": [],
   "source": [
    "ps = {\n",
    "    \"kernel\": \"rbf\",\n",
    "    \"C\": 1.0,\n",
    "    \"gamma\": \"scale\"\n",
    "}"
   ]
  },
  {
   "cell_type": "code",
   "execution_count": 197,
   "metadata": {},
   "outputs": [],
   "source": [
    "clf = svm.SVC()"
   ]
  },
  {
   "cell_type": "code",
   "execution_count": 199,
   "metadata": {},
   "outputs": [],
   "source": [
    "class Dataset:\n",
    "    def __init__(self, X, y):\n",
    "        self.X = X\n",
    "        self.y = y\n",
    "        self.x_train = X\n",
    "        self.y_train = y\n",
    "        self.x_test = X\n",
    "        self.y_test = y        \n",
    "    \n",
    "    def split(self, percentage):\n",
    "        idx = np.arange(len(self.X))\n",
    "        np.random.shuffle(idx)\n",
    "        \n",
    "        sX = self.X[idx]\n",
    "        sy = self.y[idx]\n",
    "        \n",
    "        n_train = int(len(self.X) * percentage)\n",
    "        self.x_train = sX[:n_train]\n",
    "        self.y_train = sy[:n_train]\n",
    "        self.x_test = sX[n_train:]\n",
    "        self.y_test = sy[n_train:]\n",
    "    \n",
    "    def __len__(self):\n",
    "        return len(self.y)\n",
    "    \n",
    "    def __repr__(self):\n",
    "        cls = self.__class__.__name__\n",
    "        n = len(self.y)\n",
    "        num_features = self.X.shape[1]\n",
    "        return f'{cls}(samples={n}, features={num_features})'"
   ]
  },
  {
   "cell_type": "code",
   "execution_count": 200,
   "metadata": {},
   "outputs": [],
   "source": [
    "class Learner:\n",
    "    def __init__(self, name, model, param):\n",
    "        self.name = name\n",
    "        self.model = model\n",
    "        self.params = param\n",
    "        self.data = None\n",
    "    \n",
    "    def load_data(self, X, y):\n",
    "        self.data = Dataset(X, y)\n",
    "    \n",
    "    def train_model(self):\n",
    "        if self.data == None:\n",
    "            print(\"Dataset has not been set.\")\n",
    "        else:\n",
    "            self.model.fit(self.data.x_train, self.data.y_train)            \n",
    "    \n",
    "    def eval_model(self):\n",
    "        pass\n",
    "    \n",
    "    def __repr__(self):\n",
    "        cls = self.__class__.__name__\n",
    "        return f'{cls}(model={self.name!r})'"
   ]
  },
  {
   "cell_type": "code",
   "execution_count": 170,
   "metadata": {},
   "outputs": [],
   "source": [
    "X = np.array([[0, 0], [1, 1], [1, 0], [0, 1]])\n",
    "y = np.array([0, 0, 1, 1])"
   ]
  },
  {
   "cell_type": "code",
   "execution_count": 201,
   "metadata": {},
   "outputs": [],
   "source": [
    "df = pd.read_csv(\"iris.csv\")"
   ]
  },
  {
   "cell_type": "code",
   "execution_count": 158,
   "metadata": {},
   "outputs": [],
   "source": [
    "feat = [\"sepal_length\",\t\"sepal_width\",\t\"petal_length\",\t\"petal_width\"]\n",
    "targ = \"species\""
   ]
  },
  {
   "cell_type": "code",
   "execution_count": 202,
   "metadata": {},
   "outputs": [],
   "source": [
    "# df.species = pd.Categorical(df.species)\n",
    "df[['classes']] = df[[targ]].apply(lambda col:pd.Categorical(col).codes)\n"
   ]
  },
  {
   "cell_type": "code",
   "execution_count": 203,
   "metadata": {},
   "outputs": [
    {
     "data": {
      "text/html": [
       "<div>\n",
       "<style scoped>\n",
       "    .dataframe tbody tr th:only-of-type {\n",
       "        vertical-align: middle;\n",
       "    }\n",
       "\n",
       "    .dataframe tbody tr th {\n",
       "        vertical-align: top;\n",
       "    }\n",
       "\n",
       "    .dataframe thead th {\n",
       "        text-align: right;\n",
       "    }\n",
       "</style>\n",
       "<table border=\"1\" class=\"dataframe\">\n",
       "  <thead>\n",
       "    <tr style=\"text-align: right;\">\n",
       "      <th></th>\n",
       "      <th>sepal_length</th>\n",
       "      <th>sepal_width</th>\n",
       "      <th>petal_length</th>\n",
       "      <th>petal_width</th>\n",
       "      <th>species</th>\n",
       "      <th>classes</th>\n",
       "    </tr>\n",
       "  </thead>\n",
       "  <tbody>\n",
       "    <tr>\n",
       "      <th>0</th>\n",
       "      <td>5.1</td>\n",
       "      <td>3.5</td>\n",
       "      <td>1.4</td>\n",
       "      <td>0.2</td>\n",
       "      <td>setosa</td>\n",
       "      <td>0</td>\n",
       "    </tr>\n",
       "    <tr>\n",
       "      <th>1</th>\n",
       "      <td>4.9</td>\n",
       "      <td>3.0</td>\n",
       "      <td>1.4</td>\n",
       "      <td>0.2</td>\n",
       "      <td>setosa</td>\n",
       "      <td>0</td>\n",
       "    </tr>\n",
       "    <tr>\n",
       "      <th>2</th>\n",
       "      <td>4.7</td>\n",
       "      <td>3.2</td>\n",
       "      <td>1.3</td>\n",
       "      <td>0.2</td>\n",
       "      <td>setosa</td>\n",
       "      <td>0</td>\n",
       "    </tr>\n",
       "    <tr>\n",
       "      <th>3</th>\n",
       "      <td>4.6</td>\n",
       "      <td>3.1</td>\n",
       "      <td>1.5</td>\n",
       "      <td>0.2</td>\n",
       "      <td>setosa</td>\n",
       "      <td>0</td>\n",
       "    </tr>\n",
       "    <tr>\n",
       "      <th>4</th>\n",
       "      <td>5.0</td>\n",
       "      <td>3.6</td>\n",
       "      <td>1.4</td>\n",
       "      <td>0.2</td>\n",
       "      <td>setosa</td>\n",
       "      <td>0</td>\n",
       "    </tr>\n",
       "    <tr>\n",
       "      <th>...</th>\n",
       "      <td>...</td>\n",
       "      <td>...</td>\n",
       "      <td>...</td>\n",
       "      <td>...</td>\n",
       "      <td>...</td>\n",
       "      <td>...</td>\n",
       "    </tr>\n",
       "    <tr>\n",
       "      <th>145</th>\n",
       "      <td>6.7</td>\n",
       "      <td>3.0</td>\n",
       "      <td>5.2</td>\n",
       "      <td>2.3</td>\n",
       "      <td>virginica</td>\n",
       "      <td>2</td>\n",
       "    </tr>\n",
       "    <tr>\n",
       "      <th>146</th>\n",
       "      <td>6.3</td>\n",
       "      <td>2.5</td>\n",
       "      <td>5.0</td>\n",
       "      <td>1.9</td>\n",
       "      <td>virginica</td>\n",
       "      <td>2</td>\n",
       "    </tr>\n",
       "    <tr>\n",
       "      <th>147</th>\n",
       "      <td>6.5</td>\n",
       "      <td>3.0</td>\n",
       "      <td>5.2</td>\n",
       "      <td>2.0</td>\n",
       "      <td>virginica</td>\n",
       "      <td>2</td>\n",
       "    </tr>\n",
       "    <tr>\n",
       "      <th>148</th>\n",
       "      <td>6.2</td>\n",
       "      <td>3.4</td>\n",
       "      <td>5.4</td>\n",
       "      <td>2.3</td>\n",
       "      <td>virginica</td>\n",
       "      <td>2</td>\n",
       "    </tr>\n",
       "    <tr>\n",
       "      <th>149</th>\n",
       "      <td>5.9</td>\n",
       "      <td>3.0</td>\n",
       "      <td>5.1</td>\n",
       "      <td>1.8</td>\n",
       "      <td>virginica</td>\n",
       "      <td>2</td>\n",
       "    </tr>\n",
       "  </tbody>\n",
       "</table>\n",
       "<p>150 rows × 6 columns</p>\n",
       "</div>"
      ],
      "text/plain": [
       "     sepal_length  sepal_width  petal_length  petal_width    species  classes\n",
       "0             5.1          3.5           1.4          0.2     setosa        0\n",
       "1             4.9          3.0           1.4          0.2     setosa        0\n",
       "2             4.7          3.2           1.3          0.2     setosa        0\n",
       "3             4.6          3.1           1.5          0.2     setosa        0\n",
       "4             5.0          3.6           1.4          0.2     setosa        0\n",
       "..            ...          ...           ...          ...        ...      ...\n",
       "145           6.7          3.0           5.2          2.3  virginica        2\n",
       "146           6.3          2.5           5.0          1.9  virginica        2\n",
       "147           6.5          3.0           5.2          2.0  virginica        2\n",
       "148           6.2          3.4           5.4          2.3  virginica        2\n",
       "149           5.9          3.0           5.1          1.8  virginica        2\n",
       "\n",
       "[150 rows x 6 columns]"
      ]
     },
     "execution_count": 203,
     "metadata": {},
     "output_type": "execute_result"
    }
   ],
   "source": [
    "df"
   ]
  },
  {
   "cell_type": "code",
   "execution_count": 205,
   "metadata": {},
   "outputs": [
    {
     "data": {
      "text/plain": [
       "(150,)"
      ]
     },
     "execution_count": 205,
     "metadata": {},
     "output_type": "execute_result"
    }
   ],
   "source": [
    "df[\"classes\"].to_numpy().ravel().shape"
   ]
  },
  {
   "cell_type": "code",
   "execution_count": 206,
   "metadata": {},
   "outputs": [
    {
     "data": {
      "text/plain": [
       "array([0, 0, 0, 0, 0, 0, 0, 0, 0, 0, 0, 0, 0, 0, 0, 0, 0, 0, 0, 0, 0, 0,\n",
       "       0, 0, 0, 0, 0, 0, 0, 0, 0, 0, 0, 0, 0, 0, 0, 0, 0, 0, 0, 0, 0, 0,\n",
       "       0, 0, 0, 0, 0, 0, 1, 1, 1, 1, 1, 1, 1, 1, 1, 1, 1, 1, 1, 1, 1, 1,\n",
       "       1, 1, 1, 1, 1, 1, 1, 1, 1, 1, 1, 1, 1, 1, 1, 1, 1, 1, 1, 1, 1, 1,\n",
       "       1, 1, 1, 1, 1, 1, 1, 1, 1, 1, 1, 1, 2, 2, 2, 2, 2, 2, 2, 2, 2, 2,\n",
       "       2, 2, 2, 2, 2, 2, 2, 2, 2, 2, 2, 2, 2, 2, 2, 2, 2, 2, 2, 2, 2, 2,\n",
       "       2, 2, 2, 2, 2, 2, 2, 2, 2, 2, 2, 2, 2, 2, 2, 2, 2, 2], dtype=int8)"
      ]
     },
     "execution_count": 206,
     "metadata": {},
     "output_type": "execute_result"
    }
   ],
   "source": [
    "df['classes'].to_numpy()"
   ]
  },
  {
   "cell_type": "code",
   "execution_count": 207,
   "metadata": {},
   "outputs": [],
   "source": [
    "X = df.iloc[:, 0:-2].copy().to_numpy()\n",
    "y = df.iloc[:,-1].copy().to_numpy()"
   ]
  },
  {
   "cell_type": "code",
   "execution_count": 208,
   "metadata": {},
   "outputs": [],
   "source": [
    "d = Dataset(X, y)"
   ]
  },
  {
   "cell_type": "code",
   "execution_count": 209,
   "metadata": {},
   "outputs": [],
   "source": [
    "d.split(0.8)"
   ]
  },
  {
   "cell_type": "code",
   "execution_count": 106,
   "metadata": {},
   "outputs": [
    {
     "data": {
      "text/plain": [
       "150"
      ]
     },
     "execution_count": 106,
     "metadata": {},
     "output_type": "execute_result"
    }
   ],
   "source": [
    "len(d)"
   ]
  },
  {
   "cell_type": "code",
   "execution_count": 210,
   "metadata": {},
   "outputs": [],
   "source": [
    "l = Learner(\"SVM\", clf, [])"
   ]
  },
  {
   "cell_type": "code",
   "execution_count": 211,
   "metadata": {},
   "outputs": [],
   "source": [
    "l.load_data(X,y)"
   ]
  },
  {
   "cell_type": "code",
   "execution_count": 212,
   "metadata": {},
   "outputs": [],
   "source": [
    "l.train_model()"
   ]
  },
  {
   "cell_type": "code",
   "execution_count": 213,
   "metadata": {},
   "outputs": [
    {
     "data": {
      "text/plain": [
       "array([2, 0, 0, 0, 0, 2, 0, 2, 0, 2, 2, 1, 1, 1, 1, 0, 1, 2, 2, 2, 1, 2,\n",
       "       2, 0, 2, 1, 2, 0, 0, 0], dtype=int8)"
      ]
     },
     "execution_count": 213,
     "metadata": {},
     "output_type": "execute_result"
    }
   ],
   "source": [
    "l.model.predict(d.x_test)"
   ]
  },
  {
   "cell_type": "code",
   "execution_count": 111,
   "metadata": {},
   "outputs": [
    {
     "data": {
      "text/plain": [
       "array([1, 0, 2, 1, 1, 2, 0, 0, 1, 2, 0, 2, 0, 1, 1, 2, 1, 1, 1, 0, 0, 0,\n",
       "       1, 1, 1, 2, 1, 0, 1, 2], dtype=int8)"
      ]
     },
     "execution_count": 111,
     "metadata": {},
     "output_type": "execute_result"
    }
   ],
   "source": [
    "d.y_test"
   ]
  },
  {
   "cell_type": "code",
   "execution_count": 97,
   "metadata": {},
   "outputs": [],
   "source": [
    "idx = np.arange(len(y))\n",
    "np.random.shuffle(idx)"
   ]
  },
  {
   "cell_type": "code",
   "execution_count": 225,
   "metadata": {},
   "outputs": [],
   "source": [
    "x0_min = min(X[:,0]) - 1\n",
    "x0_max = max(X[:,0]) + 1\n",
    "x1_min = min(X[:,1]) - 1\n",
    "x1_max = max(X[:,1]) + 1\n",
    "x2_min = min(X[:,2]) - 1\n",
    "x2_max = max(X[:,2]) + 1\n",
    "x3_min = min(X[:,3]) - 1\n",
    "x3_max = max(X[:,3]) + 1"
   ]
  },
  {
   "cell_type": "code",
   "execution_count": 229,
   "metadata": {},
   "outputs": [],
   "source": [
    "x0 = np.linspace(x0_min, x0_max, num=500)\n",
    "x1 = np.linspace(x1_min, x1_max, num=500)\n",
    "x2 = np.linspace(x2_min, x2_max, num=500)\n",
    "x3 = np.linspace(x3_min, x3_max, num=500)"
   ]
  },
  {
   "cell_type": "code",
   "execution_count": 233,
   "metadata": {},
   "outputs": [],
   "source": [
    "gX = np.array([x0, x1, x2, x3]).T"
   ]
  },
  {
   "cell_type": "code",
   "execution_count": 235,
   "metadata": {},
   "outputs": [],
   "source": [
    "gy = l.model.predict(gX)"
   ]
  },
  {
   "cell_type": "code",
   "execution_count": 247,
   "metadata": {},
   "outputs": [],
   "source": [
    "gy = np.expand_dims(gy, axis=1)"
   ]
  },
  {
   "cell_type": "code",
   "execution_count": 244,
   "metadata": {},
   "outputs": [
    {
     "data": {
      "text/plain": [
       "(3, 2)"
      ]
     },
     "execution_count": 244,
     "metadata": {},
     "output_type": "execute_result"
    }
   ],
   "source": [
    "np.array([[1, 2], [3, 4], [5, 6]]).shape"
   ]
  },
  {
   "cell_type": "code",
   "execution_count": 250,
   "metadata": {},
   "outputs": [],
   "source": [
    "dt = np.concatenate((gX, gy), axis=1)"
   ]
  },
  {
   "cell_type": "code",
   "execution_count": 252,
   "metadata": {},
   "outputs": [],
   "source": [
    "gdf = pd.DataFrame(dt, columns=['x1', 'x2', 'x3', 'x4', 'cls'])"
   ]
  },
  {
   "cell_type": "code",
   "execution_count": 253,
   "metadata": {},
   "outputs": [
    {
     "data": {
      "text/plain": [
       "<Axes: xlabel='x1', ylabel='x2'>"
      ]
     },
     "execution_count": 253,
     "metadata": {},
     "output_type": "execute_result"
    },
    {
     "data": {
      "image/png": "[encoded data removed]",
      "text/plain": [
       "<Figure size 640x480 with 1 Axes>"
      ]
     },
     "metadata": {},
     "output_type": "display_data"
    }
   ],
   "source": [
    "import seaborn as sns\n",
    "sns.scatterplot(data=gdf, x='x1', y='x2', hue='cls')"
   ]
  },
  {
   "cell_type": "code",
   "execution_count": 142,
   "metadata": {},
   "outputs": [],
   "source": [
    "import learner_module\n",
    "import pandas as pd"
   ]
  },
  {
   "cell_type": "code",
   "execution_count": 143,
   "metadata": {},
   "outputs": [],
   "source": [
    "l = learner_module.classification_algorithms"
   ]
  },
  {
   "cell_type": "code",
   "execution_count": 146,
   "metadata": {},
   "outputs": [
    {
     "data": {
      "text/plain": [
       "dict_keys(['LR', 'DTC', 'RFC', 'GBC', 'KNN', 'LSVM', 'Q-SVM', 'C-SVM', 'RBF-SVM', 'GNB', 'MNB', 'MLP', 'KMC', 'GMM'])"
      ]
     },
     "execution_count": 146,
     "metadata": {},
     "output_type": "execute_result"
    }
   ],
   "source": [
    "l.keys()"
   ]
  },
  {
   "cell_type": "code",
   "execution_count": null,
   "metadata": {},
   "outputs": [],
   "source": [
    "for k,v in learner_module.classification_algorithms.items():\n",
    "    print(v)"
   ]
  },
  {
   "cell_type": "code",
   "execution_count": 6,
   "metadata": {},
   "outputs": [],
   "source": [
    "df = pd.DataFrame.from_dict(learner_module.classification_algorithms)"
   ]
  },
  {
   "cell_type": "code",
   "execution_count": 8,
   "metadata": {},
   "outputs": [
    {
     "data": {
      "text/html": [
       "<div>\n",
       "<style scoped>\n",
       "    .dataframe tbody tr th:only-of-type {\n",
       "        vertical-align: middle;\n",
       "    }\n",
       "\n",
       "    .dataframe tbody tr th {\n",
       "        vertical-align: top;\n",
       "    }\n",
       "\n",
       "    .dataframe thead th {\n",
       "        text-align: right;\n",
       "    }\n",
       "</style>\n",
       "<table border=\"1\" class=\"dataframe\">\n",
       "  <thead>\n",
       "    <tr style=\"text-align: right;\">\n",
       "      <th></th>\n",
       "      <th>long_name</th>\n",
       "      <th>function</th>\n",
       "      <th>parameters</th>\n",
       "    </tr>\n",
       "  </thead>\n",
       "  <tbody>\n",
       "    <tr>\n",
       "      <th>LR</th>\n",
       "      <td>Logistic Regression</td>\n",
       "      <td>&lt;class 'sklearn.linear_model._logistic.Logisti...</td>\n",
       "      <td>[penalty, C, solver, max_iter]</td>\n",
       "    </tr>\n",
       "    <tr>\n",
       "      <th>DTC</th>\n",
       "      <td>Decision Tree Classifier</td>\n",
       "      <td>&lt;class 'sklearn.tree._classes.DecisionTreeClas...</td>\n",
       "      <td>[criterion, max_depth, min_samples_split, min_...</td>\n",
       "    </tr>\n",
       "    <tr>\n",
       "      <th>RFC</th>\n",
       "      <td>Random Forest Classifier</td>\n",
       "      <td>&lt;class 'sklearn.ensemble._forest.RandomForestC...</td>\n",
       "      <td>[n_estimators, criterion, max_depth, min_sampl...</td>\n",
       "    </tr>\n",
       "    <tr>\n",
       "      <th>GBC</th>\n",
       "      <td>Gradient Boosting Classifier</td>\n",
       "      <td>&lt;class 'sklearn.ensemble._gb.GradientBoostingC...</td>\n",
       "      <td>[n_estimators, learning_rate, max_depth, subsa...</td>\n",
       "    </tr>\n",
       "    <tr>\n",
       "      <th>KNN</th>\n",
       "      <td>K-Nearest Neighbors Classifier</td>\n",
       "      <td>&lt;class 'sklearn.neighbors._classification.KNei...</td>\n",
       "      <td>[n_neighbors, weights, algorithm, p]</td>\n",
       "    </tr>\n",
       "    <tr>\n",
       "      <th>LSVM</th>\n",
       "      <td>Linear Support Vector Machine</td>\n",
       "      <td>&lt;class 'sklearn.svm._classes.SVC'&gt;</td>\n",
       "      <td>[kernel='linear', C, max_iter]</td>\n",
       "    </tr>\n",
       "    <tr>\n",
       "      <th>Q-SVM</th>\n",
       "      <td>Quadratic Support Vector Machine</td>\n",
       "      <td>&lt;class 'sklearn.svm._classes.SVC'&gt;</td>\n",
       "      <td>[kernel='poly', degree=2, C, gamma]</td>\n",
       "    </tr>\n",
       "    <tr>\n",
       "      <th>C-SVM</th>\n",
       "      <td>Cubic Support Vector Machine</td>\n",
       "      <td>&lt;class 'sklearn.svm._classes.SVC'&gt;</td>\n",
       "      <td>[kernel='poly', degree=3, C, gamma]</td>\n",
       "    </tr>\n",
       "    <tr>\n",
       "      <th>RBF-SVM</th>\n",
       "      <td>Radial Basis Function Support Vector Machine</td>\n",
       "      <td>&lt;class 'sklearn.svm._classes.SVC'&gt;</td>\n",
       "      <td>[kernel='rbf', C, gamma]</td>\n",
       "    </tr>\n",
       "    <tr>\n",
       "      <th>GNB</th>\n",
       "      <td>Gaussian Naive Bayes</td>\n",
       "      <td>&lt;class 'sklearn.naive_bayes.GaussianNB'&gt;</td>\n",
       "      <td>[var_smoothing]</td>\n",
       "    </tr>\n",
       "    <tr>\n",
       "      <th>MNB</th>\n",
       "      <td>Multinomial Naive Bayes</td>\n",
       "      <td>&lt;class 'sklearn.naive_bayes.MultinomialNB'&gt;</td>\n",
       "      <td>[alpha, fit_prior]</td>\n",
       "    </tr>\n",
       "    <tr>\n",
       "      <th>MLP</th>\n",
       "      <td>Multi-Layer Perceptron Classifier</td>\n",
       "      <td>&lt;class 'sklearn.neural_network._multilayer_per...</td>\n",
       "      <td>[hidden_layer_sizes, activation, solver, learn...</td>\n",
       "    </tr>\n",
       "    <tr>\n",
       "      <th>KMC</th>\n",
       "      <td>K-Means Clustering (used for classification vi...</td>\n",
       "      <td>&lt;class 'sklearn.cluster._kmeans.KMeans'&gt;</td>\n",
       "      <td>[n_clusters, init, n_init, max_iter]</td>\n",
       "    </tr>\n",
       "    <tr>\n",
       "      <th>GMM</th>\n",
       "      <td>Gaussian Mixture Model (used for classificatio...</td>\n",
       "      <td>&lt;class 'sklearn.mixture._gaussian_mixture.Gaus...</td>\n",
       "      <td>[n_components, covariance_type, init_params, m...</td>\n",
       "    </tr>\n",
       "  </tbody>\n",
       "</table>\n",
       "</div>"
      ],
      "text/plain": [
       "                                                 long_name  \\\n",
       "LR                                     Logistic Regression   \n",
       "DTC                               Decision Tree Classifier   \n",
       "RFC                               Random Forest Classifier   \n",
       "GBC                           Gradient Boosting Classifier   \n",
       "KNN                         K-Nearest Neighbors Classifier   \n",
       "LSVM                         Linear Support Vector Machine   \n",
       "Q-SVM                     Quadratic Support Vector Machine   \n",
       "C-SVM                         Cubic Support Vector Machine   \n",
       "RBF-SVM       Radial Basis Function Support Vector Machine   \n",
       "GNB                                   Gaussian Naive Bayes   \n",
       "MNB                                Multinomial Naive Bayes   \n",
       "MLP                      Multi-Layer Perceptron Classifier   \n",
       "KMC      K-Means Clustering (used for classification vi...   \n",
       "GMM      Gaussian Mixture Model (used for classificatio...   \n",
       "\n",
       "                                                  function  \\\n",
       "LR       <class 'sklearn.linear_model._logistic.Logisti...   \n",
       "DTC      <class 'sklearn.tree._classes.DecisionTreeClas...   \n",
       "RFC      <class 'sklearn.ensemble._forest.RandomForestC...   \n",
       "GBC      <class 'sklearn.ensemble._gb.GradientBoostingC...   \n",
       "KNN      <class 'sklearn.neighbors._classification.KNei...   \n",
       "LSVM                    <class 'sklearn.svm._classes.SVC'>   \n",
       "Q-SVM                   <class 'sklearn.svm._classes.SVC'>   \n",
       "C-SVM                   <class 'sklearn.svm._classes.SVC'>   \n",
       "RBF-SVM                 <class 'sklearn.svm._classes.SVC'>   \n",
       "GNB               <class 'sklearn.naive_bayes.GaussianNB'>   \n",
       "MNB            <class 'sklearn.naive_bayes.MultinomialNB'>   \n",
       "MLP      <class 'sklearn.neural_network._multilayer_per...   \n",
       "KMC               <class 'sklearn.cluster._kmeans.KMeans'>   \n",
       "GMM      <class 'sklearn.mixture._gaussian_mixture.Gaus...   \n",
       "\n",
       "                                                parameters  \n",
       "LR                          [penalty, C, solver, max_iter]  \n",
       "DTC      [criterion, max_depth, min_samples_split, min_...  \n",
       "RFC      [n_estimators, criterion, max_depth, min_sampl...  \n",
       "GBC      [n_estimators, learning_rate, max_depth, subsa...  \n",
       "KNN                   [n_neighbors, weights, algorithm, p]  \n",
       "LSVM                        [kernel='linear', C, max_iter]  \n",
       "Q-SVM                  [kernel='poly', degree=2, C, gamma]  \n",
       "C-SVM                  [kernel='poly', degree=3, C, gamma]  \n",
       "RBF-SVM                           [kernel='rbf', C, gamma]  \n",
       "GNB                                        [var_smoothing]  \n",
       "MNB                                     [alpha, fit_prior]  \n",
       "MLP      [hidden_layer_sizes, activation, solver, learn...  \n",
       "KMC                   [n_clusters, init, n_init, max_iter]  \n",
       "GMM      [n_components, covariance_type, init_params, m...  "
      ]
     },
     "execution_count": 8,
     "metadata": {},
     "output_type": "execute_result"
    }
   ],
   "source": [
    "df.T"
   ]
  },
  {
   "cell_type": "code",
   "execution_count": null,
   "metadata": {},
   "outputs": [
    {
     "data": {
      "image/png": "[encoded data removed]",
      "text/plain": [
       "<Figure size 1000x600 with 1 Axes>"
      ]
     },
     "metadata": {},
     "output_type": "display_data"
    }
   ],
   "source": [
    "import numpy as np\n",
    "import matplotlib.pyplot as plt\n",
    "from sklearn import datasets\n",
    "from sklearn.svm import SVC\n",
    "from sklearn.preprocessing import StandardScaler\n",
    "\n",
    "def plot_decision_boundaries(model, X, y, feature_idx, class_names):\n",
    "    # Select the two features for visualization\n",
    "    X_selected = X[:, feature_idx]\n",
    "    \n",
    "    # Standardize the selected features\n",
    "    scaler = StandardScaler()\n",
    "    X_scaled = scaler.fit_transform(X_selected)\n",
    "\n",
    "    # Create a mesh grid\n",
    "    x_min, x_max = X_scaled[:, 0].min() - 1, X_scaled[:, 0].max() + 1\n",
    "    y_min, y_max = X_scaled[:, 1].min() - 1, X_scaled[:, 1].max() + 1\n",
    "    xx, yy = np.meshgrid(np.arange(x_min, x_max, 0.01),\n",
    "                         np.arange(y_min, y_max, 0.01))\n",
    "\n",
    "    # Predict class probabilities for the grid\n",
    "    Z = model.predict(np.c_[xx.ravel(), yy.ravel()])\n",
    "    Z = Z.reshape(xx.shape)\n",
    "\n",
    "    # Plot the decision boundaries\n",
    "    plt.figure(figsize=(10, 6))\n",
    "    plt.contourf(xx, yy, Z, alpha=0.8, cmap=plt.cm.tab20c)\n",
    "\n",
    "    # Scatter plot of the original data\n",
    "    for class_value, class_name in enumerate(class_names):\n",
    "        plt.scatter(\n",
    "            X_scaled[y == class_value, 0],\n",
    "            X_scaled[y == class_value, 1],\n",
    "            label=class_name,\n",
    "            edgecolor=\"k\"\n",
    "        )\n",
    "\n",
    "    plt.xlabel(f\"Feature {feature_idx[0] + 1}\")\n",
    "    plt.ylabel(f\"Feature {feature_idx[1] + 1}\")\n",
    "    plt.title(\"Decision Boundaries of Linear SVM\")\n",
    "    plt.legend()\n",
    "    plt.show()\n",
    "\n",
    "# Example usage\n",
    "# Load Iris dataset\n",
    "iris = datasets.load_iris()\n",
    "X = iris.data  # All 4 features\n",
    "y = iris.target  # Target labels\n",
    "class_names = iris.target_names\n",
    "\n",
    "# Train a Linear SVM model on two selected features (e.g., feature 0 and 1)\n",
    "features_to_visualize = [1, 2]\n",
    "X_selected_features = X[:, features_to_visualize]\n",
    "scaler = StandardScaler()\n",
    "X_scaled = scaler.fit_transform(X_selected_features)\n",
    "\n",
    "svm_model = SVC(kernel=\"rbf\")\n",
    "svm_model.fit(X_scaled, y)\n",
    "\n",
    "# Plot decision boundaries\n",
    "plot_decision_boundaries(svm_model, X, y, features_to_visualize, class_names)\n"
   ]
  }
 ],
 "metadata": {
  "kernelspec": {
   "display_name": "base",
   "language": "python",
   "name": "python3"
  },
  "language_info": {
   "codemirror_mode": {
    "name": "ipython",
    "version": 3
   },
   "file_extension": ".py",
   "mimetype": "text/x-python",
   "name": "python",
   "nbconvert_exporter": "python",
   "pygments_lexer": "ipython3",
   "version": "3.12.3"
  }
 },
 "nbformat": 4,
 "nbformat_minor": 2
}
